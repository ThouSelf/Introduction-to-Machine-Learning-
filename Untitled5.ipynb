{
 "cells": [
  {
   "cell_type": "code",
   "execution_count": 23,
   "metadata": {},
   "outputs": [],
   "source": [
    "import numpy as np \n",
    "import pandas as pd \n",
    "from sklearn.ensemble import GradientBoostingClassifier\n",
    "from sklearn.model_selection import train_test_split \n",
    "from sklearn.metrics import log_loss\n",
    "import matplotlib.pyplot as plt \n",
    "from sklearn.ensemble import RandomForestClassifier\n"
   ]
  },
  {
   "cell_type": "code",
   "execution_count": 2,
   "metadata": {},
   "outputs": [],
   "source": [
    "df = pd.read_csv('gbm-data.csv')\n"
   ]
  },
  {
   "cell_type": "code",
   "execution_count": 46,
   "metadata": {},
   "outputs": [],
   "source": [
    "y = df['Activity'].values\n",
    "X = df.loc[:, 'D1':'D1176'].values\n",
    "\n"
   ]
  },
  {
   "cell_type": "code",
   "execution_count": 33,
   "metadata": {},
   "outputs": [],
   "source": [
    "X_train, X_test, y_train, y_test = train_test_split(X, y, test_size = 0.8, random_state = 241)"
   ]
  },
  {
   "cell_type": "code",
   "execution_count": 34,
   "metadata": {},
   "outputs": [],
   "source": [
    "def sigmoid_fun(y_pred):\n",
    "    return 1.0 / (1.0 + np.exp(-y_pred))"
   ]
  },
  {
   "cell_type": "code",
   "execution_count": 35,
   "metadata": {},
   "outputs": [],
   "source": [
    "def log_loss_results(X, y, model):\n",
    "    return [log_loss(y, sigmoid_fun(y_pred)) for y_pred in model.staged_decision_function(X)]"
   ]
  },
  {
   "cell_type": "code",
   "execution_count": 36,
   "metadata": {},
   "outputs": [],
   "source": [
    "def plot_log_loss(learning_rate, train_loss, test_loss):\n",
    "    plt.figure()\n",
    "    plt.plot(train_loss, 'blue', linewidth = 2)\n",
    "    plt.plot(test_loss, 'red', linewidth = 2)\n",
    "    plt.legend(['train', 'test'])\n",
    "    plt.show()"
   ]
  },
  {
   "cell_type": "code",
   "execution_count": 42,
   "metadata": {},
   "outputs": [
    {
     "name": "stdout",
     "output_type": "stream",
     "text": [
      "learning rate: 1\n",
      "      Iter       Train Loss   Remaining Time \n",
      "         1           1.0190           16.44s\n",
      "         2           0.9264           15.63s\n",
      "         3           0.8254           14.82s\n",
      "         4           0.7509           14.39s\n",
      "         5           0.6978           14.06s\n",
      "         6           0.6626           13.75s\n",
      "         7           0.6419           13.50s\n",
      "         8           0.6006           13.13s\n",
      "         9           0.5728           13.12s\n",
      "        10           0.5363           13.08s\n",
      "        20           0.2771           11.49s\n",
      "        30           0.1435           10.63s\n",
      "        40           0.0965           10.14s\n",
      "        50           0.0628            9.52s\n",
      "        60           0.0435            9.05s\n",
      "        70           0.0283            8.55s\n",
      "        80           0.0197            8.06s\n",
      "        90           0.0138            7.59s\n",
      "       100           0.0100            7.12s\n",
      "       200           0.0002            2.45s\n"
     ]
    },
    {
     "data": {
      "text/plain": [
       "GradientBoostingClassifier(learning_rate=1, n_estimators=250, random_state=241,\n",
       "                           verbose=True)"
      ]
     },
     "execution_count": 42,
     "metadata": {},
     "output_type": "execute_result"
    },
    {
     "data": {
      "image/png": "[encoded data removed]",
      "text/plain": [
       "<Figure size 432x288 with 1 Axes>"
      ]
     },
     "metadata": {
      "needs_background": "light"
     },
     "output_type": "display_data"
    },
    {
     "name": "stdout",
     "output_type": "stream",
     "text": [
      "Min loss 0.58 at n_estimators=1\n",
      "\n",
      "learning rate: 0.5\n",
      "      Iter       Train Loss   Remaining Time \n",
      "         1           1.1255           12.45s\n",
      "         2           1.0037           11.90s\n",
      "         3           0.9344           11.12s\n",
      "         4           0.8621           10.95s\n",
      "         5           0.8293           11.42s\n",
      "         6           0.7853           11.75s\n",
      "         7           0.7443           11.80s\n",
      "         8           0.7179           11.80s\n",
      "         9           0.6849           12.37s\n",
      "        10           0.6559           12.55s\n",
      "        20           0.4316           11.86s\n",
      "        30           0.2905           11.71s\n",
      "        40           0.2180           11.07s\n",
      "        50           0.1617           10.15s\n",
      "        60           0.1272            9.56s\n",
      "        70           0.1036            8.95s\n",
      "        80           0.0802            8.37s\n",
      "        90           0.0653            7.82s\n",
      "       100           0.0507            7.31s\n",
      "       200           0.0052            2.32s\n"
     ]
    },
    {
     "data": {
      "text/plain": [
       "GradientBoostingClassifier(learning_rate=0.5, n_estimators=250,\n",
       "                           random_state=241, verbose=True)"
      ]
     },
     "execution_count": 42,
     "metadata": {},
     "output_type": "execute_result"
    },
    {
     "data": {
      "image/png": "[encoded data removed]",
      "text/plain": [
       "<Figure size 432x288 with 1 Axes>"
      ]
     },
     "metadata": {
      "needs_background": "light"
     },
     "output_type": "display_data"
    },
    {
     "name": "stdout",
     "output_type": "stream",
     "text": [
      "Min loss 0.56 at n_estimators=5\n",
      "\n",
      "learning rate: 0.3\n",
      "      Iter       Train Loss   Remaining Time \n",
      "         1           1.2095           11.70s\n",
      "         2           1.0991           10.79s\n",
      "         3           1.0275           10.46s\n",
      "         4           0.9706           10.21s\n",
      "         5           0.9284           10.19s\n",
      "         6           0.8965           11.06s\n",
      "         7           0.8653           11.11s\n",
      "         8           0.8348           11.04s\n",
      "         9           0.8175           11.01s\n",
      "        10           0.8022           11.21s\n",
      "        20           0.6174           10.56s\n",
      "        30           0.5072           10.21s\n",
      "        40           0.4260            9.63s\n",
      "        50           0.3564            9.25s\n",
      "        60           0.2894            8.77s\n",
      "        70           0.2418            8.29s\n",
      "        80           0.2028            7.80s\n",
      "        90           0.1637            7.30s\n",
      "       100           0.1375            6.84s\n",
      "       200           0.0296            2.27s\n"
     ]
    },
    {
     "data": {
      "text/plain": [
       "GradientBoostingClassifier(learning_rate=0.3, n_estimators=250,\n",
       "                           random_state=241, verbose=True)"
      ]
     },
     "execution_count": 42,
     "metadata": {},
     "output_type": "execute_result"
    },
    {
     "data": {
      "image/png": "[encoded data removed]",
      "text/plain": [
       "<Figure size 432x288 with 1 Axes>"
      ]
     },
     "metadata": {
      "needs_background": "light"
     },
     "output_type": "display_data"
    },
    {
     "name": "stdout",
     "output_type": "stream",
     "text": [
      "Min loss 0.54 at n_estimators=10\n",
      "\n",
      "learning rate: 0.2\n",
      "      Iter       Train Loss   Remaining Time \n",
      "         1           1.2613           12.45s\n",
      "         2           1.1700           11.66s\n",
      "         3           1.1033           11.28s\n",
      "         4           1.0566           10.82s\n",
      "         5           1.0153           10.93s\n",
      "         6           0.9817           11.18s\n",
      "         7           0.9508           10.97s\n",
      "         8           0.9269           10.95s\n",
      "         9           0.9015           10.74s\n",
      "        10           0.8739           10.92s\n",
      "        20           0.7176           10.58s\n",
      "        30           0.6103           10.57s\n",
      "        40           0.5104           10.39s\n",
      "        50           0.4448            9.99s\n",
      "        60           0.3928            9.65s\n",
      "        70           0.3471            9.27s\n",
      "        80           0.3088            8.75s\n",
      "        90           0.2611            8.15s\n",
      "       100           0.2293            7.55s\n",
      "       200           0.0769            2.38s\n"
     ]
    },
    {
     "data": {
      "text/plain": [
       "GradientBoostingClassifier(learning_rate=0.2, n_estimators=250,\n",
       "                           random_state=241, verbose=True)"
      ]
     },
     "execution_count": 42,
     "metadata": {},
     "output_type": "execute_result"
    },
    {
     "data": {
      "image/png": "[encoded data removed]",
      "text/plain": [
       "<Figure size 432x288 with 1 Axes>"
      ]
     },
     "metadata": {
      "needs_background": "light"
     },
     "output_type": "display_data"
    },
    {
     "name": "stdout",
     "output_type": "stream",
     "text": [
      "Min loss 0.53 at n_estimators=27\n",
      "\n",
      "learning rate: 0.1\n",
      "      Iter       Train Loss   Remaining Time \n",
      "         1           1.3199           11.21s\n",
      "         2           1.2666           10.42s\n",
      "         3           1.2162           11.03s\n",
      "         4           1.1771           10.64s\n",
      "         5           1.1430           10.93s\n",
      "         6           1.1141           11.14s\n",
      "         7           1.0889           11.01s\n",
      "         8           1.0652           10.80s\n",
      "         9           1.0447           10.63s\n",
      "        10           1.0255           10.61s\n",
      "        20           0.8835           10.24s\n",
      "        30           0.7890            9.83s\n",
      "        40           0.7188            9.47s\n",
      "        50           0.6646            9.14s\n",
      "        60           0.6173            8.71s\n",
      "        70           0.5667            8.25s\n",
      "        80           0.5275            7.81s\n",
      "        90           0.5014            7.46s\n",
      "       100           0.4702            7.23s\n",
      "       200           0.2455            2.40s\n"
     ]
    },
    {
     "data": {
      "text/plain": [
       "GradientBoostingClassifier(n_estimators=250, random_state=241, verbose=True)"
      ]
     },
     "execution_count": 42,
     "metadata": {},
     "output_type": "execute_result"
    },
    {
     "data": {
      "image/png": "[encoded data removed]",
      "text/plain": [
       "<Figure size 432x288 with 1 Axes>"
      ]
     },
     "metadata": {
      "needs_background": "light"
     },
     "output_type": "display_data"
    },
    {
     "name": "stdout",
     "output_type": "stream",
     "text": [
      "Min loss 0.53 at n_estimators=34\n",
      "\n"
     ]
    }
   ],
   "source": [
    "min_loss_res = {}\n",
    "for lr in [1, 0.5, 0.3, 0.2, 0.1]:\n",
    "    print(f'learning rate: {lr}')\n",
    "    model = GradientBoostingClassifier(learning_rate = lr, n_estimators = 250, verbose = True, random_state = 241)\n",
    "    model.fit(X_train, y_train)\n",
    "    log_loss_train = log_loss_results(X_train, y_train, model)\n",
    "    log_loss_test = log_loss_results(X_test, y_test, model)\n",
    "    plot_log_loss(lr, log_loss_train, log_loss_test)\n",
    "    min_loss_value = min(log_loss_test)\n",
    "    min_index_loss = log_loss_test.index(min_loss_value) + 1 \n",
    "    min_loss_res[lr] = min_loss_value, min_index_loss\n",
    "    \n",
    "    print(f\"Min loss {min_loss_value:.2f} at n_estimators={min_index_loss}\\n\")\n"
   ]
  },
  {
   "cell_type": "code",
   "execution_count": null,
   "metadata": {},
   "outputs": [],
   "source": [
    "\n"
   ]
  },
  {
   "cell_type": "code",
   "execution_count": 43,
   "metadata": {},
   "outputs": [
    {
     "name": "stdout",
     "output_type": "stream",
     "text": [
      "overfitting\n"
     ]
    }
   ],
   "source": [
    "print('overfitting')"
   ]
  },
  {
   "cell_type": "code",
   "execution_count": 44,
   "metadata": {},
   "outputs": [
    {
     "name": "stdout",
     "output_type": "stream",
     "text": [
      "min_value = 0.53 at n_estimators = 27\n"
     ]
    }
   ],
   "source": [
    "min_loss_value, min_index_loss = min_loss_res[0.2]\n",
    "print(f'min_value = {min_loss_value:.2f} at n_estimators = {min_index_loss}')"
   ]
  },
  {
   "cell_type": "code",
   "execution_count": 47,
   "metadata": {},
   "outputs": [
    {
     "name": "stdout",
     "output_type": "stream",
     "text": [
      "      Iter       Train Loss   Remaining Time \n",
      "         1           1.3199           15.69s\n",
      "         2           1.2666           14.01s\n",
      "         3           1.2162           13.09s\n",
      "         4           1.1771           12.12s\n",
      "         5           1.1430           11.96s\n",
      "         6           1.1141           11.55s\n",
      "         7           1.0889           11.42s\n",
      "         8           1.0652           11.22s\n",
      "         9           1.0447           10.98s\n",
      "        10           1.0255           10.75s\n",
      "        20           0.8835           10.36s\n",
      "        30           0.7890           10.38s\n",
      "        40           0.7188           10.21s\n",
      "        50           0.6646            9.64s\n",
      "        60           0.6173            9.06s\n",
      "        70           0.5667            8.45s\n",
      "        80           0.5275            7.94s\n",
      "        90           0.5014            7.45s\n",
      "       100           0.4702            7.00s\n",
      "       200           0.2455            2.31s\n"
     ]
    },
    {
     "data": {
      "text/plain": [
       "GradientBoostingClassifier(n_estimators=250, random_state=241, verbose=True)"
      ]
     },
     "execution_count": 47,
     "metadata": {},
     "output_type": "execute_result"
    },
    {
     "name": "stdout",
     "output_type": "stream",
     "text": [
      "0.57\n"
     ]
    }
   ],
   "source": [
    "model_forest = RandomForestClassifier(n_estimators = min_index_loss, random_state = 241)\n",
    "model.fit(X_train, y_train)\n",
    "y_pred = model.predict_proba(X_test)\n",
    "test_loss = log_loss(y_test, y_pred)\n",
    "print(f'{test_loss:.2f}')"
   ]
  },
  {
   "cell_type": "code",
   "execution_count": null,
   "metadata": {},
   "outputs": [],
   "source": []
  }
 ],
 "metadata": {
  "kernelspec": {
   "display_name": "Python 3",
   "language": "python",
   "name": "python3"
  },
  "language_info": {
   "codemirror_mode": {
    "name": "ipython",
    "version": 3
   },
   "file_extension": ".py",
   "mimetype": "text/x-python",
   "name": "python",
   "nbconvert_exporter": "python",
   "pygments_lexer": "ipython3",
   "version": "3.8.3"
  }
 },
 "nbformat": 4,
 "nbformat_minor": 4
}
