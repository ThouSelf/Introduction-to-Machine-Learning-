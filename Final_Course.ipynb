{
 "cells": [
  {
   "cell_type": "code",
   "execution_count": 1,
   "metadata": {},
   "outputs": [],
   "source": [
    "import pandas as pd \n",
    "import numpy as np\n",
    "import datetime\n",
    "from sklearn.model_selection import KFold, cross_val_score\n",
    "from sklearn.ensemble import GradientBoostingClassifier\n",
    "from sklearn.linear_model import LogisticRegression\n",
    "from sklearn.preprocessing import StandardScaler"
   ]
  },
  {
   "cell_type": "code",
   "execution_count": 2,
   "metadata": {},
   "outputs": [
    {
     "data": {
      "text/html": [
       "<div>\n",
       "<style scoped>\n",
       "    .dataframe tbody tr th:only-of-type {\n",
       "        vertical-align: middle;\n",
       "    }\n",
       "\n",
       "    .dataframe tbody tr th {\n",
       "        vertical-align: top;\n",
       "    }\n",
       "\n",
       "    .dataframe thead th {\n",
       "        text-align: right;\n",
       "    }\n",
       "</style>\n",
       "<table border=\"1\" class=\"dataframe\">\n",
       "  <thead>\n",
       "    <tr style=\"text-align: right;\">\n",
       "      <th></th>\n",
       "      <th>match_id</th>\n",
       "      <th>start_time</th>\n",
       "      <th>lobby_type</th>\n",
       "      <th>r1_hero</th>\n",
       "      <th>r1_level</th>\n",
       "      <th>r1_xp</th>\n",
       "      <th>r1_gold</th>\n",
       "      <th>r1_lh</th>\n",
       "      <th>r1_kills</th>\n",
       "      <th>r1_deaths</th>\n",
       "      <th>...</th>\n",
       "      <th>dire_boots_count</th>\n",
       "      <th>dire_ward_observer_count</th>\n",
       "      <th>dire_ward_sentry_count</th>\n",
       "      <th>dire_first_ward_time</th>\n",
       "      <th>duration</th>\n",
       "      <th>radiant_win</th>\n",
       "      <th>tower_status_radiant</th>\n",
       "      <th>tower_status_dire</th>\n",
       "      <th>barracks_status_radiant</th>\n",
       "      <th>barracks_status_dire</th>\n",
       "    </tr>\n",
       "  </thead>\n",
       "  <tbody>\n",
       "    <tr>\n",
       "      <th>0</th>\n",
       "      <td>0</td>\n",
       "      <td>1430198770</td>\n",
       "      <td>7</td>\n",
       "      <td>11</td>\n",
       "      <td>5</td>\n",
       "      <td>2098</td>\n",
       "      <td>1489</td>\n",
       "      <td>20</td>\n",
       "      <td>0</td>\n",
       "      <td>0</td>\n",
       "      <td>...</td>\n",
       "      <td>4</td>\n",
       "      <td>2</td>\n",
       "      <td>2</td>\n",
       "      <td>-52.0</td>\n",
       "      <td>2874</td>\n",
       "      <td>1</td>\n",
       "      <td>1796</td>\n",
       "      <td>0</td>\n",
       "      <td>51</td>\n",
       "      <td>0</td>\n",
       "    </tr>\n",
       "    <tr>\n",
       "      <th>1</th>\n",
       "      <td>1</td>\n",
       "      <td>1430220345</td>\n",
       "      <td>0</td>\n",
       "      <td>42</td>\n",
       "      <td>4</td>\n",
       "      <td>1188</td>\n",
       "      <td>1033</td>\n",
       "      <td>9</td>\n",
       "      <td>0</td>\n",
       "      <td>1</td>\n",
       "      <td>...</td>\n",
       "      <td>4</td>\n",
       "      <td>3</td>\n",
       "      <td>1</td>\n",
       "      <td>-5.0</td>\n",
       "      <td>2463</td>\n",
       "      <td>1</td>\n",
       "      <td>1974</td>\n",
       "      <td>0</td>\n",
       "      <td>63</td>\n",
       "      <td>1</td>\n",
       "    </tr>\n",
       "    <tr>\n",
       "      <th>2</th>\n",
       "      <td>2</td>\n",
       "      <td>1430227081</td>\n",
       "      <td>7</td>\n",
       "      <td>33</td>\n",
       "      <td>4</td>\n",
       "      <td>1319</td>\n",
       "      <td>1270</td>\n",
       "      <td>22</td>\n",
       "      <td>0</td>\n",
       "      <td>0</td>\n",
       "      <td>...</td>\n",
       "      <td>4</td>\n",
       "      <td>3</td>\n",
       "      <td>1</td>\n",
       "      <td>13.0</td>\n",
       "      <td>2130</td>\n",
       "      <td>0</td>\n",
       "      <td>0</td>\n",
       "      <td>1830</td>\n",
       "      <td>0</td>\n",
       "      <td>63</td>\n",
       "    </tr>\n",
       "    <tr>\n",
       "      <th>3</th>\n",
       "      <td>3</td>\n",
       "      <td>1430263531</td>\n",
       "      <td>1</td>\n",
       "      <td>29</td>\n",
       "      <td>4</td>\n",
       "      <td>1779</td>\n",
       "      <td>1056</td>\n",
       "      <td>14</td>\n",
       "      <td>0</td>\n",
       "      <td>0</td>\n",
       "      <td>...</td>\n",
       "      <td>4</td>\n",
       "      <td>2</td>\n",
       "      <td>0</td>\n",
       "      <td>27.0</td>\n",
       "      <td>1459</td>\n",
       "      <td>0</td>\n",
       "      <td>1920</td>\n",
       "      <td>2047</td>\n",
       "      <td>50</td>\n",
       "      <td>63</td>\n",
       "    </tr>\n",
       "    <tr>\n",
       "      <th>4</th>\n",
       "      <td>4</td>\n",
       "      <td>1430282290</td>\n",
       "      <td>7</td>\n",
       "      <td>13</td>\n",
       "      <td>4</td>\n",
       "      <td>1431</td>\n",
       "      <td>1090</td>\n",
       "      <td>8</td>\n",
       "      <td>1</td>\n",
       "      <td>0</td>\n",
       "      <td>...</td>\n",
       "      <td>3</td>\n",
       "      <td>3</td>\n",
       "      <td>0</td>\n",
       "      <td>-16.0</td>\n",
       "      <td>2449</td>\n",
       "      <td>0</td>\n",
       "      <td>4</td>\n",
       "      <td>1974</td>\n",
       "      <td>3</td>\n",
       "      <td>63</td>\n",
       "    </tr>\n",
       "  </tbody>\n",
       "</table>\n",
       "<p>5 rows × 109 columns</p>\n",
       "</div>"
      ],
      "text/plain": [
       "   match_id  start_time  lobby_type  r1_hero  r1_level  r1_xp  r1_gold  r1_lh  \\\n",
       "0         0  1430198770           7       11         5   2098     1489     20   \n",
       "1         1  1430220345           0       42         4   1188     1033      9   \n",
       "2         2  1430227081           7       33         4   1319     1270     22   \n",
       "3         3  1430263531           1       29         4   1779     1056     14   \n",
       "4         4  1430282290           7       13         4   1431     1090      8   \n",
       "\n",
       "   r1_kills  r1_deaths  ...  dire_boots_count  dire_ward_observer_count  \\\n",
       "0         0          0  ...                 4                         2   \n",
       "1         0          1  ...                 4                         3   \n",
       "2         0          0  ...                 4                         3   \n",
       "3         0          0  ...                 4                         2   \n",
       "4         1          0  ...                 3                         3   \n",
       "\n",
       "   dire_ward_sentry_count  dire_first_ward_time  duration  radiant_win  \\\n",
       "0                       2                 -52.0      2874            1   \n",
       "1                       1                  -5.0      2463            1   \n",
       "2                       1                  13.0      2130            0   \n",
       "3                       0                  27.0      1459            0   \n",
       "4                       0                 -16.0      2449            0   \n",
       "\n",
       "   tower_status_radiant  tower_status_dire  barracks_status_radiant  \\\n",
       "0                  1796                  0                       51   \n",
       "1                  1974                  0                       63   \n",
       "2                     0               1830                        0   \n",
       "3                  1920               2047                       50   \n",
       "4                     4               1974                        3   \n",
       "\n",
       "   barracks_status_dire  \n",
       "0                     0  \n",
       "1                     1  \n",
       "2                    63  \n",
       "3                    63  \n",
       "4                    63  \n",
       "\n",
       "[5 rows x 109 columns]"
      ]
     },
     "execution_count": 2,
     "metadata": {},
     "output_type": "execute_result"
    }
   ],
   "source": [
    "train = pd.read_csv('features.csv')\n",
    "train.head()\n"
   ]
  },
  {
   "cell_type": "code",
   "execution_count": 3,
   "metadata": {},
   "outputs": [],
   "source": [
    "train.drop(['duration', 'radiant_win', 'tower_status_radiant', 'tower_status_dire', 'barracks_status_radiant', 'barracks_status_dire'], axis = 1, inplace = True)"
   ]
  },
  {
   "cell_type": "code",
   "execution_count": 4,
   "metadata": {},
   "outputs": [
    {
     "data": {
      "text/plain": [
       "match_id                    97230\n",
       "start_time                  97230\n",
       "lobby_type                  97230\n",
       "r1_hero                     97230\n",
       "r1_level                    97230\n",
       "                            ...  \n",
       "dire_tpscroll_count         97230\n",
       "dire_boots_count            97230\n",
       "dire_ward_observer_count    97230\n",
       "dire_ward_sentry_count      97230\n",
       "dire_first_ward_time        95404\n",
       "Length: 103, dtype: int64"
      ]
     },
     "execution_count": 4,
     "metadata": {},
     "output_type": "execute_result"
    }
   ],
   "source": [
    "train.count()"
   ]
  },
  {
   "cell_type": "code",
   "execution_count": 5,
   "metadata": {},
   "outputs": [
    {
     "data": {
      "text/plain": [
       "97230"
      ]
     },
     "execution_count": 5,
     "metadata": {},
     "output_type": "execute_result"
    }
   ],
   "source": [
    "len(train)"
   ]
  },
  {
   "cell_type": "code",
   "execution_count": 6,
   "metadata": {},
   "outputs": [
    {
     "data": {
      "text/plain": [
       "match_id                       0\n",
       "start_time                     0\n",
       "lobby_type                     0\n",
       "r1_hero                        0\n",
       "r1_level                       0\n",
       "                            ... \n",
       "dire_tpscroll_count            0\n",
       "dire_boots_count               0\n",
       "dire_ward_observer_count       0\n",
       "dire_ward_sentry_count         0\n",
       "dire_first_ward_time        1826\n",
       "Length: 103, dtype: int64"
      ]
     },
     "execution_count": 6,
     "metadata": {},
     "output_type": "execute_result"
    }
   ],
   "source": [
    "count_train = len(train) - train.count()\n",
    "count_train"
   ]
  },
  {
   "cell_type": "code",
   "execution_count": 7,
   "metadata": {},
   "outputs": [
    {
     "data": {
      "text/plain": [
       "first_blood_time               19553\n",
       "first_blood_team               19553\n",
       "first_blood_player1            19553\n",
       "first_blood_player2            43987\n",
       "radiant_bottle_time            15691\n",
       "radiant_courier_time             692\n",
       "radiant_flying_courier_time    27479\n",
       "radiant_first_ward_time         1836\n",
       "dire_bottle_time               16143\n",
       "dire_courier_time                676\n",
       "dire_flying_courier_time       26098\n",
       "dire_first_ward_time            1826\n",
       "dtype: int64"
      ]
     },
     "execution_count": 7,
     "metadata": {},
     "output_type": "execute_result"
    }
   ],
   "source": [
    "count_train[count_train > 0]"
   ]
  },
  {
   "cell_type": "code",
   "execution_count": 8,
   "metadata": {},
   "outputs": [
    {
     "data": {
      "text/plain": [
       "first_blood_time               0.201100\n",
       "first_blood_team               0.201100\n",
       "first_blood_player1            0.201100\n",
       "first_blood_player2            0.452402\n",
       "radiant_bottle_time            0.161380\n",
       "radiant_courier_time           0.007117\n",
       "radiant_flying_courier_time    0.282619\n",
       "radiant_first_ward_time        0.018883\n",
       "dire_bottle_time               0.166029\n",
       "dire_courier_time              0.006953\n",
       "dire_flying_courier_time       0.268415\n",
       "dire_first_ward_time           0.018780\n",
       "dtype: float64"
      ]
     },
     "execution_count": 8,
     "metadata": {},
     "output_type": "execute_result"
    }
   ],
   "source": [
    "count_train[count_train > 0] / len(train)"
   ]
  },
  {
   "cell_type": "code",
   "execution_count": 9,
   "metadata": {},
   "outputs": [],
   "source": [
    "train.fillna(0, inplace = True)"
   ]
  },
  {
   "cell_type": "code",
   "execution_count": 10,
   "metadata": {},
   "outputs": [],
   "source": [
    "df = pd.read_csv('features.csv')\n",
    "\n",
    "df.drop([\n",
    "    \"duration\",\n",
    "    \"tower_status_radiant\",\n",
    "    \"tower_status_dire\",\n",
    "    \"barracks_status_radiant\",\n",
    "    \"barracks_status_dire\",\n",
    "], axis=1, inplace=True)\n",
    "df.fillna(0, inplace = True)\n",
    "y_train = df['radiant_win']\n",
    "X_train = df.drop('radiant_win', axis = 1)"
   ]
  },
  {
   "cell_type": "code",
   "execution_count": 11,
   "metadata": {},
   "outputs": [],
   "source": [
    "cv = KFold(n_splits = 5, shuffle = True, random_state = 41)"
   ]
  },
  {
   "cell_type": "code",
   "execution_count": 12,
   "metadata": {},
   "outputs": [],
   "source": [
    "def score_gradient_boosting(X, y):\n",
    "    scores = {}\n",
    "    for n_estimators in [10, 20, 30, 40, 50]:\n",
    "        print('n_estimators:', n_estimators)\n",
    "        model = GradientBoostingClassifier(n_estimators = n_estimators, random_state = 41)\n",
    "        time = datetime.datetime.now()\n",
    "        score = cross_val_score(model, X, y, cv = cv, scoring = 'roc_auc', n_jobs = -1 ).mean()\n",
    "        print('score:', score)\n",
    "        print('time:', datetime.datetime.now() - time)\n",
    "        scores[n_estimators] = score\n",
    "        print()\n",
    "    return scores"
   ]
  },
  {
   "cell_type": "code",
   "execution_count": 13,
   "metadata": {},
   "outputs": [
    {
     "name": "stdout",
     "output_type": "stream",
     "text": [
      "n_estimators: 10\n",
      "score: 0.664753367020111\n",
      "time: 0:00:17.617309\n",
      "\n",
      "n_estimators: 20\n",
      "score: 0.6815665500912005\n",
      "time: 0:00:35.833966\n",
      "\n",
      "n_estimators: 30\n",
      "score: 0.6893728084471435\n",
      "time: 0:00:51.859868\n",
      "\n",
      "n_estimators: 40\n",
      "score: 0.6943741491980353\n",
      "time: 0:01:17.615588\n",
      "\n",
      "n_estimators: 50\n",
      "score: 0.6976973385388637\n",
      "time: 0:01:34.049048\n",
      "\n"
     ]
    }
   ],
   "source": [
    "scores = score_gradient_boosting(X_train, y_train)"
   ]
  },
  {
   "cell_type": "code",
   "execution_count": 14,
   "metadata": {},
   "outputs": [],
   "source": [
    "scaler = StandardScaler()"
   ]
  },
  {
   "cell_type": "code",
   "execution_count": 15,
   "metadata": {},
   "outputs": [],
   "source": [
    "X_train = pd.DataFrame(scaler.fit_transform(X_train), index = X_train.index, columns = X_train.columns)"
   ]
  },
  {
   "cell_type": "code",
   "execution_count": 16,
   "metadata": {},
   "outputs": [],
   "source": [
    "def score_log_reg(X: pd.DataFrame, y: pd.Series) -> pd.Series:\n",
    "    scores = {}\n",
    "    for i in range(-5, 6):\n",
    "        C = 10 ** i\n",
    "        print('C:', C)\n",
    "        model = LogisticRegression(C = C, random_state = 41, max_iter = 12000000)\n",
    "        time = datetime.datetime.now()\n",
    "        score = cross_val_score(model, X, y, cv=cv, scoring=\"roc_auc\", n_jobs=-1).mean()\n",
    "        print('Score:', score)\n",
    "        print('Time:',datetime.datetime.now() - time)\n",
    "        scores[i] = score\n",
    "        print()\n",
    "        \n",
    "    return pd.Series(scores)\n"
   ]
  },
  {
   "cell_type": "code",
   "execution_count": 17,
   "metadata": {},
   "outputs": [
    {
     "name": "stdout",
     "output_type": "stream",
     "text": [
      "C: 1e-05\n",
      "Score: 0.695204978290372\n",
      "Time: 0:00:01.640261\n",
      "\n",
      "C: 0.0001\n",
      "Score: 0.7114332189003822\n",
      "Time: 0:00:01.863140\n",
      "\n",
      "C: 0.001\n",
      "Score: 0.7164606345373652\n",
      "Time: 0:00:02.533501\n",
      "\n",
      "C: 0.01\n",
      "Score: 0.7166587562067755\n",
      "Time: 0:00:03.446247\n",
      "\n",
      "C: 0.1\n",
      "Score: 0.7166428458493955\n",
      "Time: 0:00:04.323219\n",
      "\n",
      "C: 1\n",
      "Score: 0.7166400844206592\n",
      "Time: 0:00:04.177305\n",
      "\n",
      "C: 10\n",
      "Score: 0.7166396733632802\n",
      "Time: 0:00:03.872286\n",
      "\n",
      "C: 100\n",
      "Score: 0.7166395843880846\n",
      "Time: 0:00:03.754729\n",
      "\n",
      "C: 1000\n",
      "Score: 0.7166395907499072\n",
      "Time: 0:00:03.705259\n",
      "\n",
      "C: 10000\n",
      "Score: 0.716639592867741\n",
      "Time: 0:00:03.796684\n",
      "\n",
      "C: 100000\n",
      "Score: 0.7166395949872569\n",
      "Time: 0:00:03.802282\n",
      "\n"
     ]
    }
   ],
   "source": [
    "scores = score_log_reg(X_train, y_train)"
   ]
  },
  {
   "cell_type": "code",
   "execution_count": 18,
   "metadata": {},
   "outputs": [],
   "source": [
    "def best_log_reg_score(scores: pd.Series):\n",
    "    best_iteration = scores.sort_values(ascending = False).head(1)\n",
    "    best_C = 10 ** best_iteration\n",
    "    best_score = best_iteration.values[0]\n",
    "    print('best C:', best_C)\n",
    "    print('best score:', best_score)"
   ]
  },
  {
   "cell_type": "code",
   "execution_count": 19,
   "metadata": {},
   "outputs": [
    {
     "name": "stdout",
     "output_type": "stream",
     "text": [
      "best C: -2    5.207853\n",
      "dtype: float64\n",
      "best score: 0.7166587562067755\n"
     ]
    }
   ],
   "source": [
    "best_log_reg_score(scores)"
   ]
  },
  {
   "cell_type": "code",
   "execution_count": 20,
   "metadata": {},
   "outputs": [],
   "source": [
    "X_train.drop(['lobby_type', \n",
    "              'r1_hero', 'r2_hero', 'r3_hero', 'r4_hero', 'r5_hero', \n",
    "              'd1_hero', 'd2_hero', 'd3_hero', 'd4_hero', 'd5_hero'], axis = 1, inplace = True)"
   ]
  },
  {
   "cell_type": "code",
   "execution_count": 21,
   "metadata": {},
   "outputs": [
    {
     "name": "stdout",
     "output_type": "stream",
     "text": [
      "C: 1e-05\n",
      "Score: 0.6951620778147735\n",
      "Time: 0:00:01.409913\n",
      "\n",
      "C: 0.0001\n",
      "Score: 0.7114392994851133\n",
      "Time: 0:00:01.441915\n",
      "\n",
      "C: 0.001\n",
      "Score: 0.716510049190685\n",
      "Time: 0:00:02.471834\n",
      "\n",
      "C: 0.01\n",
      "Score: 0.7167134323617802\n",
      "Time: 0:00:03.289135\n",
      "\n",
      "C: 0.1\n",
      "Score: 0.716692333805533\n",
      "Time: 0:00:03.413103\n",
      "\n",
      "C: 1\n",
      "Score: 0.7166912363572898\n",
      "Time: 0:00:03.853218\n",
      "\n",
      "C: 10\n",
      "Score: 0.7166903509939015\n",
      "Time: 0:00:03.369991\n",
      "\n",
      "C: 100\n",
      "Score: 0.7166904485384038\n",
      "Time: 0:00:03.325917\n",
      "\n",
      "C: 1000\n",
      "Score: 0.7166904400716984\n",
      "Time: 0:00:03.376000\n",
      "\n",
      "C: 10000\n",
      "Score: 0.7166904485517039\n",
      "Time: 0:00:03.416115\n",
      "\n",
      "C: 100000\n",
      "Score: 0.7166904485517039\n",
      "Time: 0:00:03.495260\n",
      "\n"
     ]
    }
   ],
   "source": [
    "scores_without_some_features = score_log_reg(X_train, y_train)"
   ]
  },
  {
   "cell_type": "code",
   "execution_count": 22,
   "metadata": {},
   "outputs": [
    {
     "name": "stdout",
     "output_type": "stream",
     "text": [
      "best C: -2    5.208509\n",
      "dtype: float64\n",
      "best score: 0.7167134323617802\n"
     ]
    }
   ],
   "source": [
    "best_log_reg_score(scores_without_some_features)"
   ]
  },
  {
   "cell_type": "code",
   "execution_count": 23,
   "metadata": {},
   "outputs": [],
   "source": [
    "df_clean = pd.read_csv('features.csv')"
   ]
  },
  {
   "cell_type": "code",
   "execution_count": 24,
   "metadata": {},
   "outputs": [],
   "source": [
    "hero_col = df_clean[['lobby_type', \n",
    "              'r1_hero', 'r2_hero', 'r3_hero', 'r4_hero', 'r5_hero', \n",
    "              'd1_hero', 'd2_hero', 'd3_hero', 'd4_hero', 'd5_hero']]"
   ]
  },
  {
   "cell_type": "code",
   "execution_count": 25,
   "metadata": {},
   "outputs": [],
   "source": [
    "unique_heroes = np.unique(hero_col).ravel()"
   ]
  },
  {
   "cell_type": "code",
   "execution_count": 26,
   "metadata": {},
   "outputs": [],
   "source": [
    "N_max_heroes = np.max(unique_heroes)"
   ]
  },
  {
   "cell_type": "code",
   "execution_count": 27,
   "metadata": {},
   "outputs": [],
   "source": [
    "def hero_info(data: pd.DataFrame) -> pd.DataFrame:\n",
    "    X_all_zeros = np.zeros((data.shape[0], N_max_heroes))\n",
    "    for i, match_id in enumerate(data.index):\n",
    "        for h in range(1, 6):\n",
    "            X_all_zeros[i, data.loc[match_id, f'r{h}_hero'] - 1] = 1\n",
    "            X_all_zeros[i, data.loc[match_id, f'd{h}_hero'] - 1] = -1\n",
    "            \n",
    "    return pd.DataFrame(X_all_zeros, index = data.index, columns = [f'hero_{i}' for i in range(N_max_heroes)])"
   ]
  },
  {
   "cell_type": "code",
   "execution_count": 28,
   "metadata": {},
   "outputs": [],
   "source": [
    "X_heroes = hero_info(df)"
   ]
  },
  {
   "cell_type": "code",
   "execution_count": 29,
   "metadata": {},
   "outputs": [],
   "source": [
    "X_train = pd.concat([X_train, X_heroes], axis = 1)"
   ]
  },
  {
   "cell_type": "code",
   "execution_count": 30,
   "metadata": {},
   "outputs": [
    {
     "name": "stdout",
     "output_type": "stream",
     "text": [
      "C: 1e-05\n",
      "Score: 0.6992470566318151\n",
      "Time: 0:00:03.224237\n",
      "\n",
      "C: 0.0001\n",
      "Score: 0.7251521125111013\n",
      "Time: 0:00:03.273240\n",
      "\n",
      "C: 0.001\n",
      "Score: 0.7464600386033509\n",
      "Time: 0:00:05.740423\n",
      "\n",
      "C: 0.01\n",
      "Score: 0.751934724638014\n",
      "Time: 0:00:10.679670\n",
      "\n",
      "C: 0.1\n",
      "Score: 0.7521748351575398\n",
      "Time: 0:00:16.243205\n",
      "\n",
      "C: 1\n",
      "Score: 0.7521571739850611\n",
      "Time: 0:00:18.571375\n",
      "\n",
      "C: 10\n",
      "Score: 0.7521541247744002\n",
      "Time: 0:00:16.824251\n",
      "\n",
      "C: 100\n",
      "Score: 0.7521547349013306\n",
      "Time: 0:00:17.571301\n",
      "\n",
      "C: 1000\n",
      "Score: 0.7521550523023296\n",
      "Time: 0:00:17.887327\n",
      "\n",
      "C: 10000\n",
      "Score: 0.7521555144282781\n",
      "Time: 0:00:16.312209\n",
      "\n",
      "C: 100000\n",
      "Score: 0.7521547366878061\n",
      "Time: 0:00:16.408219\n",
      "\n"
     ]
    },
    {
     "data": {
      "text/plain": [
       "-5    0.699247\n",
       "-4    0.725152\n",
       "-3    0.746460\n",
       "-2    0.751935\n",
       "-1    0.752175\n",
       " 0    0.752157\n",
       " 1    0.752154\n",
       " 2    0.752155\n",
       " 3    0.752155\n",
       " 4    0.752156\n",
       " 5    0.752155\n",
       "dtype: float64"
      ]
     },
     "execution_count": 30,
     "metadata": {},
     "output_type": "execute_result"
    }
   ],
   "source": [
    "score_log_reg(X_train, y_train)"
   ]
  },
  {
   "cell_type": "code",
   "execution_count": 31,
   "metadata": {},
   "outputs": [
    {
     "name": "stdout",
     "output_type": "stream",
     "text": [
      "C: 1e-05\n",
      "Score: 0.6992470566318151\n",
      "Time: 0:00:03.021224\n",
      "\n",
      "C: 0.0001\n",
      "Score: 0.7251521125111013\n",
      "Time: 0:00:04.285317\n",
      "\n",
      "C: 0.001\n",
      "Score: 0.7464600386033509\n",
      "Time: 0:00:06.378471\n",
      "\n",
      "C: 0.01\n",
      "Score: 0.751934724638014\n",
      "Time: 0:00:09.740722\n",
      "\n",
      "C: 0.1\n",
      "Score: 0.7521748351575398\n",
      "Time: 0:00:13.809024\n",
      "\n",
      "C: 1\n",
      "Score: 0.7521571739850611\n",
      "Time: 0:00:15.371141\n",
      "\n",
      "C: 10\n",
      "Score: 0.7521541247744002\n",
      "Time: 0:00:15.223129\n",
      "\n",
      "C: 100\n",
      "Score: 0.7521547349013306\n",
      "Time: 0:00:18.457371\n",
      "\n",
      "C: 1000\n",
      "Score: 0.7521550523023296\n",
      "Time: 0:00:17.101268\n",
      "\n",
      "C: 10000\n",
      "Score: 0.7521555144282781\n",
      "Time: 0:00:18.920404\n",
      "\n",
      "C: 100000\n",
      "Score: 0.7521547366878061\n",
      "Time: 0:00:18.043339\n",
      "\n"
     ]
    }
   ],
   "source": [
    "scores = score_log_reg(X_train, y_train)"
   ]
  },
  {
   "cell_type": "code",
   "execution_count": 32,
   "metadata": {},
   "outputs": [
    {
     "name": "stdout",
     "output_type": "stream",
     "text": [
      "best C: -1    5.651644\n",
      "dtype: float64\n",
      "best score: 0.7521748351575398\n"
     ]
    }
   ],
   "source": [
    "best_log_reg_score(scores)"
   ]
  },
  {
   "cell_type": "code",
   "execution_count": 33,
   "metadata": {},
   "outputs": [
    {
     "data": {
      "text/plain": [
       "LogisticRegression(C=0.1, max_iter=1200000, random_state=41)"
      ]
     },
     "execution_count": 33,
     "metadata": {},
     "output_type": "execute_result"
    }
   ],
   "source": [
    "model = LogisticRegression(C = 0.1, random_state = 41,  max_iter=1200000)\n",
    "model.fit(X_train, y_train)"
   ]
  },
  {
   "cell_type": "code",
   "execution_count": 40,
   "metadata": {},
   "outputs": [
    {
     "data": {
      "text/plain": [
       "RangeIndex(start=0, stop=17177, step=1)"
      ]
     },
     "execution_count": 40,
     "metadata": {},
     "output_type": "execute_result"
    },
    {
     "data": {
      "text/plain": [
       "Index(['match_id', 'start_time', 'lobby_type', 'r1_hero', 'r1_level', 'r1_xp',\n",
       "       'r1_gold', 'r1_lh', 'r1_kills', 'r1_deaths',\n",
       "       ...\n",
       "       'radiant_ward_sentry_count', 'radiant_first_ward_time',\n",
       "       'dire_bottle_time', 'dire_courier_time', 'dire_flying_courier_time',\n",
       "       'dire_tpscroll_count', 'dire_boots_count', 'dire_ward_observer_count',\n",
       "       'dire_ward_sentry_count', 'dire_first_ward_time'],\n",
       "      dtype='object', length=103)"
      ]
     },
     "execution_count": 40,
     "metadata": {},
     "output_type": "execute_result"
    }
   ],
   "source": [
    "\n",
    "test = pd.read_csv(\"features_test.csv\")\n",
    "test.fillna(0, inplace=True)\n",
    "test.index\n",
    "test.columns\n"
   ]
  },
  {
   "cell_type": "code",
   "execution_count": 41,
   "metadata": {},
   "outputs": [],
   "source": [
    "X_test = pd.DataFrame(scaler.transform(test), index=test.index, columns=test.columns) "
   ]
  },
  {
   "cell_type": "code",
   "execution_count": 43,
   "metadata": {},
   "outputs": [],
   "source": [
    "X_test.drop(['lobby_type', \n",
    "              'r1_hero', 'r2_hero', 'r3_hero', 'r4_hero', 'r5_hero', \n",
    "              'd1_hero', 'd2_hero', 'd3_hero', 'd4_hero', 'd5_hero'], axis = 1, inplace = True)"
   ]
  },
  {
   "cell_type": "code",
   "execution_count": 48,
   "metadata": {},
   "outputs": [],
   "source": [
    "X_test = pd.concat([X_test, hero_info(test)], axis = 1)"
   ]
  },
  {
   "cell_type": "code",
   "execution_count": 53,
   "metadata": {},
   "outputs": [
    {
     "data": {
      "text/html": [
       "<div>\n",
       "<style scoped>\n",
       "    .dataframe tbody tr th:only-of-type {\n",
       "        vertical-align: middle;\n",
       "    }\n",
       "\n",
       "    .dataframe tbody tr th {\n",
       "        vertical-align: top;\n",
       "    }\n",
       "\n",
       "    .dataframe thead th {\n",
       "        text-align: right;\n",
       "    }\n",
       "</style>\n",
       "<table border=\"1\" class=\"dataframe\">\n",
       "  <thead>\n",
       "    <tr style=\"text-align: right;\">\n",
       "      <th></th>\n",
       "      <th>match_id</th>\n",
       "      <th>start_time</th>\n",
       "      <th>r1_level</th>\n",
       "      <th>r1_xp</th>\n",
       "      <th>r1_gold</th>\n",
       "      <th>r1_lh</th>\n",
       "      <th>r1_kills</th>\n",
       "      <th>r1_deaths</th>\n",
       "      <th>r1_items</th>\n",
       "      <th>r2_level</th>\n",
       "      <th>...</th>\n",
       "      <th>hero_102</th>\n",
       "      <th>hero_103</th>\n",
       "      <th>hero_104</th>\n",
       "      <th>hero_105</th>\n",
       "      <th>hero_106</th>\n",
       "      <th>hero_107</th>\n",
       "      <th>hero_108</th>\n",
       "      <th>hero_109</th>\n",
       "      <th>hero_110</th>\n",
       "      <th>hero_111</th>\n",
       "    </tr>\n",
       "  </thead>\n",
       "  <tbody>\n",
       "    <tr>\n",
       "      <th>0</th>\n",
       "      <td>-1.732345</td>\n",
       "      <td>-2.528200</td>\n",
       "      <td>0.501314</td>\n",
       "      <td>-0.230161</td>\n",
       "      <td>-0.126909</td>\n",
       "      <td>-0.357459</td>\n",
       "      <td>-0.537757</td>\n",
       "      <td>1.017574</td>\n",
       "      <td>0.291758</td>\n",
       "      <td>-0.332256</td>\n",
       "      <td>...</td>\n",
       "      <td>0.0</td>\n",
       "      <td>0.0</td>\n",
       "      <td>0.0</td>\n",
       "      <td>0.0</td>\n",
       "      <td>0.0</td>\n",
       "      <td>0.0</td>\n",
       "      <td>0.0</td>\n",
       "      <td>0.0</td>\n",
       "      <td>0.0</td>\n",
       "      <td>0.0</td>\n",
       "    </tr>\n",
       "    <tr>\n",
       "      <th>1</th>\n",
       "      <td>-1.732314</td>\n",
       "      <td>-2.527214</td>\n",
       "      <td>-1.297676</td>\n",
       "      <td>-1.195592</td>\n",
       "      <td>-1.245180</td>\n",
       "      <td>-1.131661</td>\n",
       "      <td>-0.537757</td>\n",
       "      <td>-0.578083</td>\n",
       "      <td>0.291758</td>\n",
       "      <td>0.578881</td>\n",
       "      <td>...</td>\n",
       "      <td>0.0</td>\n",
       "      <td>0.0</td>\n",
       "      <td>0.0</td>\n",
       "      <td>0.0</td>\n",
       "      <td>0.0</td>\n",
       "      <td>0.0</td>\n",
       "      <td>0.0</td>\n",
       "      <td>0.0</td>\n",
       "      <td>0.0</td>\n",
       "      <td>0.0</td>\n",
       "    </tr>\n",
       "    <tr>\n",
       "      <th>2</th>\n",
       "      <td>-1.732223</td>\n",
       "      <td>-2.525688</td>\n",
       "      <td>-1.297676</td>\n",
       "      <td>-0.851426</td>\n",
       "      <td>-0.732370</td>\n",
       "      <td>-1.131661</td>\n",
       "      <td>-0.537757</td>\n",
       "      <td>-0.578083</td>\n",
       "      <td>1.893320</td>\n",
       "      <td>-1.243393</td>\n",
       "      <td>...</td>\n",
       "      <td>0.0</td>\n",
       "      <td>0.0</td>\n",
       "      <td>0.0</td>\n",
       "      <td>0.0</td>\n",
       "      <td>0.0</td>\n",
       "      <td>0.0</td>\n",
       "      <td>0.0</td>\n",
       "      <td>0.0</td>\n",
       "      <td>0.0</td>\n",
       "      <td>1.0</td>\n",
       "    </tr>\n",
       "    <tr>\n",
       "      <th>3</th>\n",
       "      <td>-1.732132</td>\n",
       "      <td>-2.521671</td>\n",
       "      <td>-0.398181</td>\n",
       "      <td>-0.927319</td>\n",
       "      <td>-0.527677</td>\n",
       "      <td>-1.131661</td>\n",
       "      <td>0.968527</td>\n",
       "      <td>1.017574</td>\n",
       "      <td>1.092539</td>\n",
       "      <td>-1.243393</td>\n",
       "      <td>...</td>\n",
       "      <td>0.0</td>\n",
       "      <td>0.0</td>\n",
       "      <td>0.0</td>\n",
       "      <td>0.0</td>\n",
       "      <td>0.0</td>\n",
       "      <td>0.0</td>\n",
       "      <td>0.0</td>\n",
       "      <td>-1.0</td>\n",
       "      <td>0.0</td>\n",
       "      <td>0.0</td>\n",
       "    </tr>\n",
       "    <tr>\n",
       "      <th>4</th>\n",
       "      <td>-1.732042</td>\n",
       "      <td>-2.520369</td>\n",
       "      <td>0.501314</td>\n",
       "      <td>0.045173</td>\n",
       "      <td>-1.049106</td>\n",
       "      <td>-0.799860</td>\n",
       "      <td>-0.537757</td>\n",
       "      <td>-0.578083</td>\n",
       "      <td>0.291758</td>\n",
       "      <td>1.490017</td>\n",
       "      <td>...</td>\n",
       "      <td>0.0</td>\n",
       "      <td>0.0</td>\n",
       "      <td>0.0</td>\n",
       "      <td>0.0</td>\n",
       "      <td>0.0</td>\n",
       "      <td>0.0</td>\n",
       "      <td>0.0</td>\n",
       "      <td>0.0</td>\n",
       "      <td>0.0</td>\n",
       "      <td>0.0</td>\n",
       "    </tr>\n",
       "    <tr>\n",
       "      <th>...</th>\n",
       "      <td>...</td>\n",
       "      <td>...</td>\n",
       "      <td>...</td>\n",
       "      <td>...</td>\n",
       "      <td>...</td>\n",
       "      <td>...</td>\n",
       "      <td>...</td>\n",
       "      <td>...</td>\n",
       "      <td>...</td>\n",
       "      <td>...</td>\n",
       "      <td>...</td>\n",
       "      <td>...</td>\n",
       "      <td>...</td>\n",
       "      <td>...</td>\n",
       "      <td>...</td>\n",
       "      <td>...</td>\n",
       "      <td>...</td>\n",
       "      <td>...</td>\n",
       "      <td>...</td>\n",
       "      <td>...</td>\n",
       "      <td>...</td>\n",
       "    </tr>\n",
       "    <tr>\n",
       "      <th>17172</th>\n",
       "      <td>1.732471</td>\n",
       "      <td>1.084410</td>\n",
       "      <td>1.400808</td>\n",
       "      <td>1.448314</td>\n",
       "      <td>1.708865</td>\n",
       "      <td>1.743945</td>\n",
       "      <td>-0.537757</td>\n",
       "      <td>1.017574</td>\n",
       "      <td>-0.108632</td>\n",
       "      <td>0.578881</td>\n",
       "      <td>...</td>\n",
       "      <td>0.0</td>\n",
       "      <td>0.0</td>\n",
       "      <td>0.0</td>\n",
       "      <td>0.0</td>\n",
       "      <td>0.0</td>\n",
       "      <td>0.0</td>\n",
       "      <td>0.0</td>\n",
       "      <td>0.0</td>\n",
       "      <td>0.0</td>\n",
       "      <td>0.0</td>\n",
       "    </tr>\n",
       "    <tr>\n",
       "      <th>17173</th>\n",
       "      <td>1.732713</td>\n",
       "      <td>1.086240</td>\n",
       "      <td>-0.398181</td>\n",
       "      <td>-0.856720</td>\n",
       "      <td>-1.169767</td>\n",
       "      <td>-1.131661</td>\n",
       "      <td>-0.537757</td>\n",
       "      <td>-0.578083</td>\n",
       "      <td>1.492930</td>\n",
       "      <td>-0.332256</td>\n",
       "      <td>...</td>\n",
       "      <td>0.0</td>\n",
       "      <td>0.0</td>\n",
       "      <td>0.0</td>\n",
       "      <td>0.0</td>\n",
       "      <td>0.0</td>\n",
       "      <td>0.0</td>\n",
       "      <td>0.0</td>\n",
       "      <td>0.0</td>\n",
       "      <td>0.0</td>\n",
       "      <td>-1.0</td>\n",
       "    </tr>\n",
       "    <tr>\n",
       "      <th>17174</th>\n",
       "      <td>1.732743</td>\n",
       "      <td>1.086370</td>\n",
       "      <td>-1.297676</td>\n",
       "      <td>-1.162058</td>\n",
       "      <td>-1.398161</td>\n",
       "      <td>-1.242261</td>\n",
       "      <td>-0.537757</td>\n",
       "      <td>-0.578083</td>\n",
       "      <td>-0.108632</td>\n",
       "      <td>-0.332256</td>\n",
       "      <td>...</td>\n",
       "      <td>0.0</td>\n",
       "      <td>0.0</td>\n",
       "      <td>0.0</td>\n",
       "      <td>-1.0</td>\n",
       "      <td>0.0</td>\n",
       "      <td>0.0</td>\n",
       "      <td>0.0</td>\n",
       "      <td>0.0</td>\n",
       "      <td>0.0</td>\n",
       "      <td>0.0</td>\n",
       "    </tr>\n",
       "    <tr>\n",
       "      <th>17175</th>\n",
       "      <td>1.733198</td>\n",
       "      <td>1.090210</td>\n",
       "      <td>0.501314</td>\n",
       "      <td>1.077673</td>\n",
       "      <td>0.060547</td>\n",
       "      <td>-0.357459</td>\n",
       "      <td>0.968527</td>\n",
       "      <td>2.613231</td>\n",
       "      <td>-0.108632</td>\n",
       "      <td>-0.332256</td>\n",
       "      <td>...</td>\n",
       "      <td>0.0</td>\n",
       "      <td>0.0</td>\n",
       "      <td>0.0</td>\n",
       "      <td>0.0</td>\n",
       "      <td>0.0</td>\n",
       "      <td>0.0</td>\n",
       "      <td>0.0</td>\n",
       "      <td>0.0</td>\n",
       "      <td>0.0</td>\n",
       "      <td>-1.0</td>\n",
       "    </tr>\n",
       "    <tr>\n",
       "      <th>17176</th>\n",
       "      <td>1.733349</td>\n",
       "      <td>1.092143</td>\n",
       "      <td>0.501314</td>\n",
       "      <td>-0.032485</td>\n",
       "      <td>0.338499</td>\n",
       "      <td>0.195542</td>\n",
       "      <td>-0.537757</td>\n",
       "      <td>-0.578083</td>\n",
       "      <td>0.692149</td>\n",
       "      <td>1.490017</td>\n",
       "      <td>...</td>\n",
       "      <td>0.0</td>\n",
       "      <td>0.0</td>\n",
       "      <td>0.0</td>\n",
       "      <td>0.0</td>\n",
       "      <td>0.0</td>\n",
       "      <td>0.0</td>\n",
       "      <td>0.0</td>\n",
       "      <td>0.0</td>\n",
       "      <td>0.0</td>\n",
       "      <td>1.0</td>\n",
       "    </tr>\n",
       "  </tbody>\n",
       "</table>\n",
       "<p>17177 rows × 204 columns</p>\n",
       "</div>"
      ],
      "text/plain": [
       "       match_id  start_time  r1_level     r1_xp   r1_gold     r1_lh  r1_kills  \\\n",
       "0     -1.732345   -2.528200  0.501314 -0.230161 -0.126909 -0.357459 -0.537757   \n",
       "1     -1.732314   -2.527214 -1.297676 -1.195592 -1.245180 -1.131661 -0.537757   \n",
       "2     -1.732223   -2.525688 -1.297676 -0.851426 -0.732370 -1.131661 -0.537757   \n",
       "3     -1.732132   -2.521671 -0.398181 -0.927319 -0.527677 -1.131661  0.968527   \n",
       "4     -1.732042   -2.520369  0.501314  0.045173 -1.049106 -0.799860 -0.537757   \n",
       "...         ...         ...       ...       ...       ...       ...       ...   \n",
       "17172  1.732471    1.084410  1.400808  1.448314  1.708865  1.743945 -0.537757   \n",
       "17173  1.732713    1.086240 -0.398181 -0.856720 -1.169767 -1.131661 -0.537757   \n",
       "17174  1.732743    1.086370 -1.297676 -1.162058 -1.398161 -1.242261 -0.537757   \n",
       "17175  1.733198    1.090210  0.501314  1.077673  0.060547 -0.357459  0.968527   \n",
       "17176  1.733349    1.092143  0.501314 -0.032485  0.338499  0.195542 -0.537757   \n",
       "\n",
       "       r1_deaths  r1_items  r2_level  ...  hero_102  hero_103  hero_104  \\\n",
       "0       1.017574  0.291758 -0.332256  ...       0.0       0.0       0.0   \n",
       "1      -0.578083  0.291758  0.578881  ...       0.0       0.0       0.0   \n",
       "2      -0.578083  1.893320 -1.243393  ...       0.0       0.0       0.0   \n",
       "3       1.017574  1.092539 -1.243393  ...       0.0       0.0       0.0   \n",
       "4      -0.578083  0.291758  1.490017  ...       0.0       0.0       0.0   \n",
       "...          ...       ...       ...  ...       ...       ...       ...   \n",
       "17172   1.017574 -0.108632  0.578881  ...       0.0       0.0       0.0   \n",
       "17173  -0.578083  1.492930 -0.332256  ...       0.0       0.0       0.0   \n",
       "17174  -0.578083 -0.108632 -0.332256  ...       0.0       0.0       0.0   \n",
       "17175   2.613231 -0.108632 -0.332256  ...       0.0       0.0       0.0   \n",
       "17176  -0.578083  0.692149  1.490017  ...       0.0       0.0       0.0   \n",
       "\n",
       "       hero_105  hero_106  hero_107  hero_108  hero_109  hero_110  hero_111  \n",
       "0           0.0       0.0       0.0       0.0       0.0       0.0       0.0  \n",
       "1           0.0       0.0       0.0       0.0       0.0       0.0       0.0  \n",
       "2           0.0       0.0       0.0       0.0       0.0       0.0       1.0  \n",
       "3           0.0       0.0       0.0       0.0      -1.0       0.0       0.0  \n",
       "4           0.0       0.0       0.0       0.0       0.0       0.0       0.0  \n",
       "...         ...       ...       ...       ...       ...       ...       ...  \n",
       "17172       0.0       0.0       0.0       0.0       0.0       0.0       0.0  \n",
       "17173       0.0       0.0       0.0       0.0       0.0       0.0      -1.0  \n",
       "17174      -1.0       0.0       0.0       0.0       0.0       0.0       0.0  \n",
       "17175       0.0       0.0       0.0       0.0       0.0       0.0      -1.0  \n",
       "17176       0.0       0.0       0.0       0.0       0.0       0.0       1.0  \n",
       "\n",
       "[17177 rows x 204 columns]"
      ]
     },
     "execution_count": 53,
     "metadata": {},
     "output_type": "execute_result"
    }
   ],
   "source": [
    "X_te"
   ]
  },
  {
   "cell_type": "code",
   "execution_count": 55,
   "metadata": {},
   "outputs": [],
   "source": [
    "prediction = pd.Series(model.predict_proba(X_test)[:, 1])"
   ]
  },
  {
   "cell_type": "code",
   "execution_count": 56,
   "metadata": {},
   "outputs": [
    {
     "data": {
      "text/plain": [
       "0        0.831572\n",
       "1        0.759446\n",
       "2        0.193933\n",
       "3        0.867119\n",
       "4        0.248067\n",
       "           ...   \n",
       "17172    0.731003\n",
       "17173    0.643419\n",
       "17174    0.246023\n",
       "17175    0.636276\n",
       "17176    0.439312\n",
       "Length: 17177, dtype: float64"
      ]
     },
     "execution_count": 56,
     "metadata": {},
     "output_type": "execute_result"
    }
   ],
   "source": [
    "prediction"
   ]
  },
  {
   "cell_type": "code",
   "execution_count": 57,
   "metadata": {},
   "outputs": [
    {
     "data": {
      "text/plain": [
       "count    17177.000000\n",
       "mean         0.517105\n",
       "std          0.220996\n",
       "min          0.008320\n",
       "25%          0.345808\n",
       "50%          0.522786\n",
       "75%          0.691744\n",
       "max          0.996488\n",
       "dtype: float64"
      ]
     },
     "execution_count": 57,
     "metadata": {},
     "output_type": "execute_result"
    }
   ],
   "source": [
    "predic"
   ]
  },
  {
   "cell_type": "code",
   "execution_count": null,
   "metadata": {},
   "outputs": [],
   "source": []
  }
 ],
 "metadata": {
  "kernelspec": {
   "display_name": "Python 3",
   "language": "python",
   "name": "python3"
  },
  "language_info": {
   "codemirror_mode": {
    "name": "ipython",
    "version": 3
   },
   "file_extension": ".py",
   "mimetype": "text/x-python",
   "name": "python",
   "nbconvert_exporter": "python",
   "pygments_lexer": "ipython3",
   "version": "3.8.3"
  }
 },
 "nbformat": 4,
 "nbformat_minor": 4
}
