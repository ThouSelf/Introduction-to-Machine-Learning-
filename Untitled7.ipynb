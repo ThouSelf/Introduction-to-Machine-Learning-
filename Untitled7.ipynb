{
 "cells": [
  {
   "cell_type": "code",
   "execution_count": 38,
   "metadata": {},
   "outputs": [],
   "source": [
    "import numpy as np \n",
    "import pandas as pd \n",
    "from skimage import img_as_float \n",
    "from skimage.io import imread, imshow\n",
    "from sklearn.cluster import KMeans\n",
    "import matplotlib.pyplot as plt\n",
    "%matplotlib inline\n",
    "from typing import Tuple\n",
    "import sys\n",
    "sys.path.append(\"..\")\n",
    "\n"
   ]
  },
  {
   "cell_type": "code",
   "execution_count": 36,
   "metadata": {},
   "outputs": [],
   "source": [
    "image = img_as_float(imread('parrots.jpg'))\n",
    "height, width, dpi = image.shape"
   ]
  },
  {
   "cell_type": "code",
   "execution_count": 37,
   "metadata": {},
   "outputs": [],
   "source": [
    "pixels = pd.DataFrame(np.reshape(image, (height * width, dpi)), columns = ['R', 'G', 'B'])"
   ]
  },
  {
   "cell_type": "code",
   "execution_count": 47,
   "metadata": {},
   "outputs": [],
   "source": [
    "#n_clusters = 8 \n",
    "def cluster_pixels_filling(pixels, n):\n",
    "    pixels = pixels.copy()\n",
    "    model = KMeans(n_clusters = n, init = 'k-means++', random_state = 241)\n",
    "    pixels[\"cluster\"] = model.fit_predict(pixels)\n",
    "\n",
    "    return pixels "
   ]
  },
  {
   "cell_type": "code",
   "execution_count": 48,
   "metadata": {},
   "outputs": [],
   "source": [
    "def median_mean_color_cluster(pixels) -> Tuple[np.array, np.array]:\n",
    "    means = pixels.groupby('cluster').mean().values\n",
    "    mean_pixels = np.array([means[col] for col in pixels['cluster']])\n",
    "    mean_img = np.reshape(mean_pixels, (height, width, dpi))\n",
    "    \n",
    "    median = pixels.groupby('cluster').median().values\n",
    "    median_pixels = np.array([median[col] for col in pixels['cluster']])\n",
    "    median_img = np.reshape(median_pixels, (height, width, dpi))\n",
    "  \n",
    "    \n",
    "    return mean_img, median_img"
   ]
  },
  {
   "cell_type": "code",
   "execution_count": 49,
   "metadata": {},
   "outputs": [],
   "source": [
    "\n",
    "def psnr(image_1: np.array, image_2: np.array) -> float:\n",
    "    mse = ((image_1 - image_2) ** 2)\n",
    "    return 10 * np.log10(1.0 / mse)"
   ]
  },
  {
   "cell_type": "code",
   "execution_count": 50,
   "metadata": {},
   "outputs": [
    {
     "name": "stdout",
     "output_type": "stream",
     "text": [
      "Clustering: 1\n"
     ]
    },
    {
     "name": "stderr",
     "output_type": "stream",
     "text": [
      "C:\\Users\\sasat\\anaconda3\\lib\\site-packages\\skimage\\io\\_plugins\\matplotlib_plugin.py:150: UserWarning: Low image data range; displaying image with stretched contrast.\n",
      "  lo, hi, cmap = _get_display_range(image)\n"
     ]
    },
    {
     "data": {
      "image/png": "[encoded data removed]",
      "text/plain": [
       "<Figure size 432x288 with 4 Axes>"
      ]
     },
     "metadata": {
      "needs_background": "light"
     },
     "output_type": "display_data"
    },
    {
     "name": "stderr",
     "output_type": "stream",
     "text": [
      "<ipython-input-49-5fabad7b7f0f>:3: RuntimeWarning: divide by zero encountered in true_divide\n",
      "  return 10 * np.log10(1.0 / mse)\n"
     ]
    },
    {
     "ename": "TypeError",
     "evalue": "unsupported format string passed to numpy.ndarray.__format__",
     "output_type": "error",
     "traceback": [
      "\u001b[1;31m---------------------------------------------------------------------------\u001b[0m",
      "\u001b[1;31mTypeError\u001b[0m                                 Traceback (most recent call last)",
      "\u001b[1;32m<ipython-input-50-a3cc21025bb3>\u001b[0m in \u001b[0;36m<module>\u001b[1;34m\u001b[0m\n\u001b[0;32m     18\u001b[0m     \u001b[0mshow_images\u001b[0m\u001b[1;33m(\u001b[0m\u001b[0mmean_img\u001b[0m\u001b[1;33m,\u001b[0m \u001b[0mmedian_img\u001b[0m\u001b[1;33m)\u001b[0m\u001b[1;33m\u001b[0m\u001b[1;33m\u001b[0m\u001b[0m\n\u001b[0;32m     19\u001b[0m     \u001b[0mpsnr_median\u001b[0m\u001b[1;33m,\u001b[0m \u001b[0mpsnr_mean\u001b[0m \u001b[1;33m=\u001b[0m \u001b[0mpsnr\u001b[0m\u001b[1;33m(\u001b[0m\u001b[0mimage\u001b[0m\u001b[1;33m,\u001b[0m \u001b[0mmedian_img\u001b[0m\u001b[1;33m)\u001b[0m\u001b[1;33m,\u001b[0m \u001b[0mpsnr\u001b[0m\u001b[1;33m(\u001b[0m\u001b[0mimage\u001b[0m\u001b[1;33m,\u001b[0m \u001b[0mmean_img\u001b[0m\u001b[1;33m)\u001b[0m\u001b[1;33m\u001b[0m\u001b[1;33m\u001b[0m\u001b[0m\n\u001b[1;32m---> 20\u001b[1;33m     \u001b[0mprint\u001b[0m\u001b[1;33m(\u001b[0m\u001b[1;34mf\"PSNR (mean): {psnr_median:.2f}PSNR (median): {psnr_mean:.2f}\\n\\n\"\u001b[0m\u001b[1;33m)\u001b[0m\u001b[1;33m\u001b[0m\u001b[1;33m\u001b[0m\u001b[0m\n\u001b[0m\u001b[0;32m     21\u001b[0m \u001b[1;33m\u001b[0m\u001b[0m\n\u001b[0;32m     22\u001b[0m     \u001b[1;32mif\u001b[0m \u001b[0mnp\u001b[0m\u001b[1;33m.\u001b[0m\u001b[0many\u001b[0m\u001b[1;33m(\u001b[0m\u001b[0mpsnr_mean\u001b[0m \u001b[1;33m>\u001b[0m \u001b[1;36m20\u001b[0m\u001b[1;33m)\u001b[0m \u001b[1;32mor\u001b[0m \u001b[0mnp\u001b[0m\u001b[1;33m.\u001b[0m\u001b[0many\u001b[0m\u001b[1;33m(\u001b[0m\u001b[0mpsnr_median\u001b[0m \u001b[1;33m>\u001b[0m \u001b[1;36m20\u001b[0m\u001b[1;33m)\u001b[0m\u001b[1;33m:\u001b[0m\u001b[1;33m\u001b[0m\u001b[1;33m\u001b[0m\u001b[0m\n",
      "\u001b[1;31mTypeError\u001b[0m: unsupported format string passed to numpy.ndarray.__format__"
     ]
    }
   ],
   "source": [
    "\n",
    "def show_images(mean_img: np.array, median_img: np.array) -> None:\n",
    "    fig = plt.figure()\n",
    "    \n",
    "    ax = fig.add_subplot(1, 2, 1)\n",
    "    ax.title.set_text('Mean_image')\n",
    "    imshow(mean_img)\n",
    "    \n",
    "    ax = fig.add_subplot(1, 2, 2)\n",
    "    ax.title.set_text('Median_img')\n",
    "    imshow(median_img)\n",
    "    \n",
    "    plt.show()\n",
    "    \n",
    "for n in range(1, 21):\n",
    "    print('Clustering:', n)\n",
    "    cpixels = cluster_pixels_filling(pixels, n)\n",
    "    mean_img, median_img = median_mean_color_cluster(cpixels)\n",
    "    show_images(mean_img, median_img)\n",
    "    psnr_median, psnr_mean = psnr(image, median_img), psnr(image, mean_img)\n",
    "    print(f\"PSNR (mean): {psnr_median:.2f}PSNR (median): {psnr_mean:.2f}\\n\\n\")\n",
    "    \n",
    "    if np.any(psnr_mean > 20) or np.any(psnr_median > 20):\n",
    "        print(str(n))\n",
    "        break"
   ]
  },
  {
   "cell_type": "code",
   "execution_count": null,
   "metadata": {},
   "outputs": [],
   "source": []
  },
  {
   "cell_type": "code",
   "execution_count": null,
   "metadata": {},
   "outputs": [],
   "source": []
  }
 ],
 "metadata": {
  "kernelspec": {
   "display_name": "Python 3",
   "language": "python",
   "name": "python3"
  },
  "language_info": {
   "codemirror_mode": {
    "name": "ipython",
    "version": 3
   },
   "file_extension": ".py",
   "mimetype": "text/x-python",
   "name": "python",
   "nbconvert_exporter": "python",
   "pygments_lexer": "ipython3",
   "version": "3.8.3"
  }
 },
 "nbformat": 4,
 "nbformat_minor": 4
}
